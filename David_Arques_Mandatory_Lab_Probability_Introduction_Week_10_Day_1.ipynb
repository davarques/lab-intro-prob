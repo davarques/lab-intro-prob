{
  "cells": [
    {
      "cell_type": "markdown",
      "metadata": {
        "id": "oILx0WtdW7wl"
      },
      "source": [
        "# Introduction To Probability\n",
        "## Challenge 1\n",
        "\n",
        "A and B are events of a probability space with $(\\omega, \\sigma, P)$ such that $P(A) = 0.3$, $P(B) = 0.6$ and $P(A \\cap B) = 0.1$\n",
        "\n",
        "Which of the following statements are false?\n",
        "* $P(A \\cup B) = 0.6$\n",
        "* $P(A \\cap B^{C}) = 0.2$\n",
        "* $P(A \\cap (B \\cup B^{C})) = 0.4$\n",
        "* $P(A^{C} \\cap B^{C}) = 0.3$\n",
        "* $P((A \\cap B)^{C}) = 0.9$"
      ]
    },
    {
      "cell_type": "code",
      "source": [
        "# Probabilities\n",
        "P_A = 0.3 #𝑃(𝐴)\n",
        "P_B = 0.6 #𝑃(𝐵)\n",
        "P_A_intersection_B = 0.1 #𝑃(𝐴∩𝐵)"
      ],
      "metadata": {
        "id": "eBJak41k4vgP"
      },
      "execution_count": 1,
      "outputs": []
    },
    {
      "cell_type": "code",
      "source": [
        "# Option 1: 𝑃(𝐴∪𝐵)=0.6\n",
        "# Operation: 𝑃(𝐴∪𝐵) = 𝑃(𝐴) + 𝑃(𝐵) - 𝑃(𝐴∩𝐵)\n",
        "option_1 = 0.3 + 0.6 - 0.1\n",
        "option_1 # =! than 0.6 so: 'False'"
      ],
      "metadata": {
        "colab": {
          "base_uri": "https://localhost:8080/"
        },
        "id": "4djzZYLl48jA",
        "outputId": "c7cfb209-deec-444b-a5f7-2c70dd1c18ee"
      },
      "execution_count": 2,
      "outputs": [
        {
          "output_type": "execute_result",
          "data": {
            "text/plain": [
              "0.7999999999999999"
            ]
          },
          "metadata": {},
          "execution_count": 2
        }
      ]
    },
    {
      "cell_type": "code",
      "source": [
        "# Option 2: 𝑃(𝐴∩𝐵𝐶)=0.2\n",
        "# Operation: 𝑃(𝐴∩𝐵𝐶) = 𝑃(𝐴) - 𝑃(𝐴∩𝐵)\n",
        "option_2 = 0.3 - 0.1\n",
        "option_2 #== to 0.2 so: 'True'"
      ],
      "metadata": {
        "colab": {
          "base_uri": "https://localhost:8080/"
        },
        "id": "mom6w80K5jSx",
        "outputId": "4868698e-1a33-4b36-af7e-8adc2ffee122"
      },
      "execution_count": 3,
      "outputs": [
        {
          "output_type": "execute_result",
          "data": {
            "text/plain": [
              "0.19999999999999998"
            ]
          },
          "metadata": {},
          "execution_count": 3
        }
      ]
    },
    {
      "cell_type": "code",
      "source": [
        "# Option 3: 𝑃(𝐴∩(𝐵∪𝐵𝐶))=0.4\n",
        "# Operation: 𝑃(𝐵∪𝐵𝐶) = 1 all space, and 𝑃(𝐴) = 0.3\n",
        "option_3 = 0.3\n",
        "option_3 #'True'"
      ],
      "metadata": {
        "colab": {
          "base_uri": "https://localhost:8080/"
        },
        "id": "jguEL0d_6N8m",
        "outputId": "07f63fa7-acc4-405e-e584-887894a5de40"
      },
      "execution_count": 4,
      "outputs": [
        {
          "output_type": "execute_result",
          "data": {
            "text/plain": [
              "0.3"
            ]
          },
          "metadata": {},
          "execution_count": 4
        }
      ]
    },
    {
      "cell_type": "code",
      "source": [
        "# Option 4: 𝑃(𝐴𝐶∩𝐵𝐶)=0.3\n",
        "# Operation: 𝑃(𝐴𝐶∩𝐵𝐶) = 1 - 𝑃(𝐴∪𝐵)\n",
        "option_4 = 1 - 0.8\n",
        "option_4 # 'False' =! than 0.3"
      ],
      "metadata": {
        "colab": {
          "base_uri": "https://localhost:8080/"
        },
        "id": "CKIZTGu_63tO",
        "outputId": "7665e22b-b76c-42a8-f5a2-969a7ddb4223"
      },
      "execution_count": 5,
      "outputs": [
        {
          "output_type": "execute_result",
          "data": {
            "text/plain": [
              "0.19999999999999996"
            ]
          },
          "metadata": {},
          "execution_count": 5
        }
      ]
    },
    {
      "cell_type": "code",
      "source": [
        "# Option 5: 𝑃((𝐴∩𝐵)𝐶)=0.9\n",
        "# Operation: 1 - 𝑃(𝐴𝐶∩𝐵𝐶)\n",
        "option_5 = 1 - 0.2\n",
        "option_5 # 'False' =! than 0.9"
      ],
      "metadata": {
        "colab": {
          "base_uri": "https://localhost:8080/"
        },
        "id": "55idt2CU7sDK",
        "outputId": "b57bdc22-9102-4c00-a85a-15db258bb7ab"
      },
      "execution_count": 6,
      "outputs": [
        {
          "output_type": "execute_result",
          "data": {
            "text/plain": [
              "0.8"
            ]
          },
          "metadata": {},
          "execution_count": 6
        }
      ]
    },
    {
      "cell_type": "markdown",
      "metadata": {
        "id": "EVrYmXmYW7wo"
      },
      "source": [
        "## Challenge 2\n",
        "There is a box with 10 white balls, 12 red balls and 8 black balls. Calculate the probability of:\n",
        "* Taking a white ball out.\n",
        "* Taking a white ball out after taking a black ball out.\n",
        "* Taking a red ball out after taking a black and a red ball out.\n",
        "* Taking a red ball out after taking a black and a red ball out with reposition.\n",
        "\n",
        "**Hint**: Reposition means putting back the ball into the box after taking it out."
      ]
    },
    {
      "cell_type": "code",
      "execution_count": 7,
      "metadata": {
        "id": "xgSqe0qFW7wo"
      },
      "outputs": [],
      "source": [
        "# Data:\n",
        "white_balls = 10\n",
        "red_balls = 12\n",
        "black_balls = 8"
      ]
    },
    {
      "cell_type": "code",
      "source": [
        "total_balls = white_balls + red_balls + black_balls\n",
        "total_balls # The box"
      ],
      "metadata": {
        "colab": {
          "base_uri": "https://localhost:8080/"
        },
        "id": "MAo8sS2L9Cr6",
        "outputId": "6a039b8c-bc93-48c2-cdff-cee1ca79d6b5"
      },
      "execution_count": 9,
      "outputs": [
        {
          "output_type": "execute_result",
          "data": {
            "text/plain": [
              "30"
            ]
          },
          "metadata": {},
          "execution_count": 9
        }
      ]
    },
    {
      "cell_type": "code",
      "source": [
        "# 2.1) Probability of taking a white ball:\n",
        "white_prob = 10/30\n",
        "white_prob"
      ],
      "metadata": {
        "colab": {
          "base_uri": "https://localhost:8080/"
        },
        "id": "LTlDIG6j9Yaz",
        "outputId": "115571b3-14e1-4faf-ea23-7c28ebe33d36"
      },
      "execution_count": 11,
      "outputs": [
        {
          "output_type": "execute_result",
          "data": {
            "text/plain": [
              "0.3333333333333333"
            ]
          },
          "metadata": {},
          "execution_count": 11
        }
      ]
    },
    {
      "cell_type": "code",
      "source": [
        "# 2.2) Taking a white ball out after taking a black ball out\n",
        "black_prob = 8/total_balls\n",
        "black_prob"
      ],
      "metadata": {
        "colab": {
          "base_uri": "https://localhost:8080/"
        },
        "id": "3gk1uTAP9w-z",
        "outputId": "a8a2ee61-cf0b-402e-f287-96d335210872"
      },
      "execution_count": 13,
      "outputs": [
        {
          "output_type": "execute_result",
          "data": {
            "text/plain": [
              "0.26666666666666666"
            ]
          },
          "metadata": {},
          "execution_count": 13
        }
      ]
    },
    {
      "cell_type": "code",
      "source": [
        "white_after_black_prob = 10/29 #29 total balls after 0.26 prob of taking a black\n",
        "white_after_black_prob"
      ],
      "metadata": {
        "colab": {
          "base_uri": "https://localhost:8080/"
        },
        "id": "p597YiyO-_C8",
        "outputId": "90ae9402-4540-4317-eb1b-0b58d2d245ec"
      },
      "execution_count": 14,
      "outputs": [
        {
          "output_type": "execute_result",
          "data": {
            "text/plain": [
              "0.3448275862068966"
            ]
          },
          "metadata": {},
          "execution_count": 14
        }
      ]
    },
    {
      "cell_type": "code",
      "source": [
        "# 2.3) Taking a red ball out after taking a black and a red ball out.\n",
        "red_prob_after_balck = 12/29\n",
        "red_prob_after_balck"
      ],
      "metadata": {
        "colab": {
          "base_uri": "https://localhost:8080/"
        },
        "id": "NZ-k3wRr_NKu",
        "outputId": "b0947338-254a-41c5-b482-eb6ca4f11df6"
      },
      "execution_count": 15,
      "outputs": [
        {
          "output_type": "execute_result",
          "data": {
            "text/plain": [
              "0.41379310344827586"
            ]
          },
          "metadata": {},
          "execution_count": 15
        }
      ]
    },
    {
      "cell_type": "code",
      "source": [
        "red_again_prob_after_balck_red = 11/28\n",
        "red_again_prob_after_balck_red"
      ],
      "metadata": {
        "colab": {
          "base_uri": "https://localhost:8080/"
        },
        "id": "W0F-oHCy_mBf",
        "outputId": "7ab13887-a913-4e3c-9614-4c1495b9bed5"
      },
      "execution_count": 16,
      "outputs": [
        {
          "output_type": "execute_result",
          "data": {
            "text/plain": [
              "0.39285714285714285"
            ]
          },
          "metadata": {},
          "execution_count": 16
        }
      ]
    },
    {
      "cell_type": "code",
      "source": [
        "# 2.4) Taking a red ball out after taking a black and a red ball out with reposition.\n",
        "red_prob_reposition = 12/30\n",
        "red_prob_reposition"
      ],
      "metadata": {
        "colab": {
          "base_uri": "https://localhost:8080/"
        },
        "id": "h_1ncxZtALro",
        "outputId": "ad9810d9-c432-4638-8a0c-d717159ae496"
      },
      "execution_count": 17,
      "outputs": [
        {
          "output_type": "execute_result",
          "data": {
            "text/plain": [
              "0.4"
            ]
          },
          "metadata": {},
          "execution_count": 17
        }
      ]
    },
    {
      "cell_type": "markdown",
      "metadata": {
        "id": "p8MFtHg0W7wo"
      },
      "source": [
        "## Challenge 3\n",
        "\n",
        "You are planning to go on a picnic today but the morning is cloudy. You hate rain so you don't know whether to go out or stay home! To help you make a decision, you gather the following data about rainy days:\n",
        "\n",
        "* Knowing that it is a rainy day, the probability of cloudy is 50%!\n",
        "* The probability of any day (rainy or not) starting off cloudy is 40%.\n",
        "* This month is usually dry so only 3 of 30 days (10%) tend to be rainy.\n",
        "\n",
        "What is the probability of rain, given the day started cloudy?"
      ]
    },
    {
      "cell_type": "code",
      "source": [
        "# Prob data\n",
        "cloud_rain_prob = 0.5\n",
        "cloud_prob = 0.4\n",
        "rain_prob = 0.1"
      ],
      "metadata": {
        "id": "OVvqGl-Ga1ov"
      },
      "execution_count": 19,
      "outputs": []
    },
    {
      "cell_type": "code",
      "source": [
        "# Bayes theory: P(A∣B)= P(B∣A) * P(A) / P(B)\n",
        "prob_rain_cloud = (0.5*0.1)/0.4\n",
        "prob_rain_cloud"
      ],
      "metadata": {
        "colab": {
          "base_uri": "https://localhost:8080/"
        },
        "id": "gMQG2ksCbH86",
        "outputId": "5efa68c1-5a49-4f26-e291-3a8ade7183bb"
      },
      "execution_count": 20,
      "outputs": [
        {
          "output_type": "execute_result",
          "data": {
            "text/plain": [
              "0.125"
            ]
          },
          "metadata": {},
          "execution_count": 20
        }
      ]
    }
  ],
  "metadata": {
    "kernelspec": {
      "display_name": "Python 3",
      "language": "python",
      "name": "python3"
    },
    "language_info": {
      "codemirror_mode": {
        "name": "ipython",
        "version": 3
      },
      "file_extension": ".py",
      "mimetype": "text/x-python",
      "name": "python",
      "nbconvert_exporter": "python",
      "pygments_lexer": "ipython3",
      "version": "3.7.2"
    },
    "colab": {
      "provenance": [],
      "toc_visible": true
    }
  },
  "nbformat": 4,
  "nbformat_minor": 0
}